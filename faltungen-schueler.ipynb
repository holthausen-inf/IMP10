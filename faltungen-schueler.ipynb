{
 "cells": [
  {
   "cell_type": "code",
   "execution_count": null,
   "id": "6df0ef77",
   "metadata": {},
   "outputs": [],
   "source": [
    "import numpy as np\n",
    "import PIL as PIL\n",
    "from PIL import Image\n",
    "import random\n",
    "\n",
    "def anschauen(array):\n",
    "    im = Image.fromarray(array)\n",
    "    vergroesserung=20\n",
    "\n",
    "    im = im.resize(vergroesserung*np.array(im.size), Image.NEAREST)\n",
    "    im.save('anschauen.png')\n",
    "    return display(im)"
   ]
  },
  {
   "cell_type": "markdown",
   "id": "77dd0520",
   "metadata": {},
   "source": [
    "#### Aufgabe 1:\n",
    "Vervollständige den Code"
   ]
  },
  {
   "cell_type": "code",
   "execution_count": null,
   "id": "4f397809",
   "metadata": {},
   "outputs": [],
   "source": [
    "def falten(array,filtermat):\n",
    "    rand=np.shape(filtermat)[0]//2\n",
    "\n",
    "    (a,b)=np.shape(array)\n",
    "    res=np.copy(array)\n",
    "    for i in range(     ,       ):\n",
    "        for j in range(     ,       ):\n",
    "            res[i,j]=np.sum(array[      :       ,       :       ]*filtermat)\n",
    "    return res"
   ]
  },
  {
   "cell_type": "code",
   "execution_count": null,
   "id": "0dd53faf",
   "metadata": {},
   "outputs": [],
   "source": [
    "test=np.array([[1, 3, 2, 1, 2, 3, 1],\n",
    "[2, 3, 2, 1, 2, 3, 2],\n",
    "[2, 3 ,3 ,1, 2, 3, 3],\n",
    "[3 ,4, 4, 2 ,5 ,4, 3],\n",
    "[6, 2, 3 ,8, 5, 2 ,1],\n",
    "[2, 1, 2 ,2 ,1, 1, 2],\n",
    "[2, 1 ,2 ,3, 4, 2, 1]],np.uint8)\n",
    "\n",
    "filter1=np.array([[-1,-2,-1],[0,0,0],[1,2,1]])"
   ]
  },
  {
   "cell_type": "markdown",
   "id": "72de9a9c",
   "metadata": {},
   "source": [
    "#### Untersuche verschiedene Filtermatrizen"
   ]
  },
  {
   "cell_type": "code",
   "execution_count": null,
   "id": "0423d326",
   "metadata": {},
   "outputs": [],
   "source": [
    "filter2=np.ones((3,3))/9\n",
    "filter3=np.array([[0,-1,0],[-1,4,-1],[0,-1,0]])\n",
    "filter4=np.array([[0,-1,0],[-1,5,-1],[0,-1,0]])\n",
    "filter5=np.array([[-2,-1,0],[-1,1,2],[0,1,2]])\n",
    "\n",
    "size=15\n",
    "filter9=np.ones((size,size))/size**2\n"
   ]
  },
  {
   "cell_type": "code",
   "execution_count": null,
   "id": "ddf522dc",
   "metadata": {},
   "outputs": [],
   "source": [
    "holthausen=np.asarray(PIL.Image.open('holthausen.jpg').convert('L'))\n",
    "#Image.fromarray(holthausen)"
   ]
  },
  {
   "cell_type": "code",
   "execution_count": null,
   "id": "6cde4693",
   "metadata": {},
   "outputs": [],
   "source": [
    "Image.fromarray(falten(holthausen,filter1))"
   ]
  },
  {
   "cell_type": "markdown",
   "id": "c6b4e1f0",
   "metadata": {},
   "source": [
    "### Farben"
   ]
  },
  {
   "cell_type": "markdown",
   "id": "35bb0bdd",
   "metadata": {},
   "source": [
    "##### Untersuche Farben"
   ]
  },
  {
   "cell_type": "code",
   "execution_count": null,
   "id": "0f1a2186",
   "metadata": {},
   "outputs": [],
   "source": [
    "a,b,c=10,10,3\n",
    "array=np.zeros([a,b,c],dtype=np.uint8)\n",
    "for i in range(a):\n",
    "    for j in range(b):\n",
    "        for k in range(c):\n",
    "            array[i,j,k]=np.random.randint(0,255)\n",
    "array[1,2]\n",
    "anschauen(array)"
   ]
  },
  {
   "cell_type": "code",
   "execution_count": null,
   "id": "dd338459",
   "metadata": {},
   "outputs": [],
   "source": [
    "def roeten(array):\n",
    "    (a,b)=np.shape(array)[:2]\n",
    "    res=np.copy(array)\n",
    "    for i in range(a):\n",
    "        for j in range(b):\n",
    "            res[i,j]=array[i,j]*np.array([1.9,1,1])\n",
    "    return res\n",
    "    "
   ]
  },
  {
   "cell_type": "code",
   "execution_count": null,
   "id": "5be945ae",
   "metadata": {},
   "outputs": [],
   "source": [
    "Image.fromarray(roeten(holthausenc))"
   ]
  },
  {
   "cell_type": "markdown",
   "id": "ebd3c986",
   "metadata": {},
   "source": [
    "### Grauwerte zählen"
   ]
  },
  {
   "cell_type": "markdown",
   "id": "50d61dcd",
   "metadata": {},
   "source": [
    "#### Aufgabe\n",
    "Erstelle eine Funktion, die zu einem Grauwert (0-255) die Anzahl der Pixel ausgibt, die diesen Grauwert besitzen."
   ]
  },
  {
   "cell_type": "markdown",
   "id": "0a617af8",
   "metadata": {},
   "source": []
  }
 ],
 "metadata": {
  "kernelspec": {
   "display_name": "Python 3",
   "language": "python",
   "name": "python3"
  },
  "language_info": {
   "codemirror_mode": {
    "name": "ipython",
    "version": 3
   },
   "file_extension": ".py",
   "mimetype": "text/x-python",
   "name": "python",
   "nbconvert_exporter": "python",
   "pygments_lexer": "ipython3",
   "version": "3.11.2"
  }
 },
 "nbformat": 4,
 "nbformat_minor": 5
}
