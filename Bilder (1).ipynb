{
 "cells": [
  {
   "cell_type": "code",
   "execution_count": null,
   "id": "6df0ef77",
   "metadata": {},
   "outputs": [],
   "source": [
    "import numpy as np\n",
    "import PIL as PIL\n",
    "from PIL import Image\n",
    "\n",
    "def anschauen(array):\n",
    "    im = Image.fromarray(array)\n",
    "    vergroesserung=20\n",
    "\n",
    "    im = im.resize(vergroesserung*np.array(im.size), Image.NEAREST)\n",
    "    return display(im)"
   ]
  },
  {
   "cell_type": "markdown",
   "id": "2bb5521d",
   "metadata": {},
   "source": [
    "# Numpy Arrays"
   ]
  },
  {
   "cell_type": "markdown",
   "id": "36a5fad2",
   "metadata": {},
   "source": [
    "In Python gibt es keine echten Arrays, d.h. Listen in denen alle Elemente vom gleichen Typ sind."
   ]
  },
  {
   "cell_type": "code",
   "execution_count": null,
   "id": "486326fe",
   "metadata": {},
   "outputs": [],
   "source": [
    "na = np.array([[  0,  55,  16, 164,  27, 254,  10, 164],\n",
    "       [ 75, 252,  58, 164,  27, 252,  16,   4],\n",
    "       [ 23, 254,  19, 252,  98,  12,  35, 252],\n",
    "       [ 17,  16,  16, 160,  55, 254,   0,   0]], dtype=np.uint8)\n",
    "print(na)\n",
    "anschauen(na)"
   ]
  },
  {
   "cell_type": "markdown",
   "id": "343f018c",
   "metadata": {},
   "source": [
    "Die Werte einzelner Elemente des Arrays kann man sich folgendermaßen ausgeben lassen:"
   ]
  },
  {
   "cell_type": "code",
   "execution_count": null,
   "id": "af5f4d04",
   "metadata": {},
   "outputs": [],
   "source": [
    "na[1,3]"
   ]
  },
  {
   "cell_type": "markdown",
   "id": "11ab68da",
   "metadata": {},
   "source": [
    "Man kann den Einträgen auch neue Werte zuordnen:"
   ]
  },
  {
   "cell_type": "code",
   "execution_count": null,
   "id": "81a938bf",
   "metadata": {},
   "outputs": [],
   "source": [
    "na[1,4]=0\n",
    "print(na)\n",
    "anschauen(na)"
   ]
  },
  {
   "cell_type": "markdown",
   "id": "d0cc0f02",
   "metadata": {},
   "source": [
    "Man kann slicen:"
   ]
  },
  {
   "cell_type": "code",
   "execution_count": null,
   "id": "bf5784d2",
   "metadata": {
    "scrolled": true
   },
   "outputs": [],
   "source": [
    "na2=na[3,:]\n",
    "print(na2)\n",
    "anschauen(na2)"
   ]
  },
  {
   "cell_type": "code",
   "execution_count": null,
   "id": "e6cb624e",
   "metadata": {},
   "outputs": [],
   "source": [
    "np.shape(na)"
   ]
  },
  {
   "cell_type": "markdown",
   "id": "f26ec385",
   "metadata": {},
   "source": [
    "### Drehen"
   ]
  },
  {
   "cell_type": "code",
   "execution_count": null,
   "id": "67d536f0",
   "metadata": {},
   "outputs": [],
   "source": [
    "def drehen(array):\n",
    "    a,b=np.shape(array)\n",
    "    res=np.zeros([b,a], dtype=np.uint8)\n",
    "    for i in range(a):\n",
    "        for j in range(b):\n",
    "            res[j,i]=array[i,j]\n",
    "    return res   "
   ]
  },
  {
   "cell_type": "code",
   "execution_count": null,
   "id": "fbdb5c04",
   "metadata": {},
   "outputs": [],
   "source": [
    "anschauen(na)\n",
    "anschauen(drehen(na))\n",
    "        "
   ]
  },
  {
   "cell_type": "markdown",
   "id": "e37c64b6",
   "metadata": {},
   "source": [
    "### Spiegeln"
   ]
  },
  {
   "cell_type": "code",
   "execution_count": null,
   "id": "256ef25c",
   "metadata": {},
   "outputs": [],
   "source": [
    "def spiegelny(array):\n",
    "    a,b=np.shape(array)\n",
    "    res=np.zeros([a,b], dtype=np.uint8)\n",
    "    for i in range(a):\n",
    "        for j in range(b):\n",
    "            res[i,j]=array[a-i-1,j]\n",
    "    return res   "
   ]
  },
  {
   "cell_type": "code",
   "execution_count": null,
   "id": "e5b6e47e",
   "metadata": {},
   "outputs": [],
   "source": [
    "anschauen(na)\n",
    "anschauen(spiegelny(na))"
   ]
  },
  {
   "cell_type": "code",
   "execution_count": null,
   "id": "0a810523",
   "metadata": {},
   "outputs": [],
   "source": [
    "def spiegelnx(array):\n",
    "    a,b=np.shape(array)\n",
    "    res=np.zeros([a,b], dtype=np.uint8)\n",
    "    for i in range(a):\n",
    "        for j in range(b):\n",
    "            res[i,j]=array[i,b-j-1]\n",
    "    return res   "
   ]
  },
  {
   "cell_type": "code",
   "execution_count": null,
   "id": "02ececb5",
   "metadata": {},
   "outputs": [],
   "source": [
    "anschauen(na)\n",
    "anschauen(spiegelnx(na))"
   ]
  },
  {
   "cell_type": "markdown",
   "id": "cd6b4f73",
   "metadata": {},
   "source": [
    "### Weichzeichnen"
   ]
  },
  {
   "cell_type": "code",
   "execution_count": null,
   "id": "d639f3ce",
   "metadata": {},
   "outputs": [],
   "source": [
    "def weichzeichnen(array,filter):\n",
    "    a,b=np.shape(array)\n",
    "    res=np.zeros([a,b], dtype=np.uint8)\n",
    "    for i in range(a):\n",
    "        for j in range(b):\n",
    "            res[i,j]=array[max(0,i-filter):min(a-1,i+filter),max(0,j-filter):min(b-1,j+filter)].mean()\n",
    "    return res   "
   ]
  },
  {
   "cell_type": "code",
   "execution_count": null,
   "id": "c51ff512",
   "metadata": {},
   "outputs": [],
   "source": [
    "anschauen(na)\n",
    "anschauen(weichzeichnen(na,1))"
   ]
  },
  {
   "cell_type": "code",
   "execution_count": null,
   "id": "6c1e7b87",
   "metadata": {},
   "outputs": [],
   "source": [
    "holthausen=np.asarray(PIL.Image.open('holthausen.jpg').convert('L'))\n",
    "Image.fromarray(holthausen)"
   ]
  },
  {
   "cell_type": "code",
   "execution_count": null,
   "id": "bfde2203",
   "metadata": {},
   "outputs": [],
   "source": [
    "Image.fromarray(weichzeichnen(holthausen,10))"
   ]
  },
  {
   "cell_type": "markdown",
   "id": "d705a1a9",
   "metadata": {},
   "source": [
    "### Grauwerte zählen"
   ]
  },
  {
   "cell_type": "code",
   "execution_count": null,
   "id": "9790609c",
   "metadata": {},
   "outputs": [],
   "source": [
    "import matplotlib.pyplot as plt"
   ]
  },
  {
   "cell_type": "code",
   "execution_count": null,
   "id": "5677c8b0",
   "metadata": {},
   "outputs": [],
   "source": [
    "np.histogram(na,bins=np.arange(np.size(na)))"
   ]
  },
  {
   "cell_type": "code",
   "execution_count": null,
   "id": "55fb2db4",
   "metadata": {},
   "outputs": [],
   "source": [
    "plt.hist(na)\n",
    "plt.show()"
   ]
  },
  {
   "cell_type": "code",
   "execution_count": null,
   "id": "c67da313",
   "metadata": {},
   "outputs": [],
   "source": [
    "def zaehlen(array,wert):\n",
    "    a,b=np.shape(array)\n",
    "    res=0\n",
    "    for i in range(a):\n",
    "        for j in range(b):\n",
    "            if array[i,j]==wert:\n",
    "                res=res+1\n",
    "    return res   "
   ]
  },
  {
   "cell_type": "code",
   "execution_count": null,
   "id": "c60ccab0",
   "metadata": {},
   "outputs": [],
   "source": [
    "zaehlen(na,0)"
   ]
  },
  {
   "cell_type": "code",
   "execution_count": null,
   "id": "42286b0e",
   "metadata": {},
   "outputs": [],
   "source": []
  },
  {
   "cell_type": "code",
   "execution_count": null,
   "id": "ee7fab21",
   "metadata": {},
   "outputs": [],
   "source": []
  }
 ],
 "metadata": {
  "kernelspec": {
   "display_name": "Python 3",
   "language": "python",
   "name": "python3"
  },
  "language_info": {
   "codemirror_mode": {
    "name": "ipython",
    "version": 3
   },
   "file_extension": ".py",
   "mimetype": "text/x-python",
   "name": "python",
   "nbconvert_exporter": "python",
   "pygments_lexer": "ipython3",
   "version": "3.7.11"
  }
 },
 "nbformat": 4,
 "nbformat_minor": 5
}
