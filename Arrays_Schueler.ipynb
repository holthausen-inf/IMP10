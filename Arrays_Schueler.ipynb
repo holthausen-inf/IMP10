{
 "cells": [
  {
   "cell_type": "code",
   "execution_count": null,
   "id": "6df0ef77",
   "metadata": {},
   "outputs": [],
   "source": [
    "import numpy as np\n",
    "import PIL as PIL\n",
    "from PIL import Image\n",
    "\n",
    "def anschauen(array):\n",
    "    im = Image.fromarray(array)\n",
    "    vergroesserung=20\n",
    "\n",
    "    im = im.resize(vergroesserung*np.array(im.size), Image.NEAREST)\n",
    "    return display(im)"
   ]
  },
  {
   "cell_type": "markdown",
   "id": "1bcd1fc7",
   "metadata": {},
   "source": [
    "# Arrays\n",
    "\n",
    "Arrays haben ähnliche Eigenschaften wie Listen in Python. In Arrays können mehrere Einträge gespeichert werden. Arrays sind nicht standardmäßig in Python enthalten, können aber aus Bibliotheken wie *numpy* importiert werden. In unserem Beispiel haben wir oben die Biblothek *numpy* als *np* importiert und können nun auf deren Funktionen zugreifen. Im Beispiel unten wird gezeigt, wie man ein Array definieren kann:"
   ]
  },
  {
   "cell_type": "code",
   "execution_count": null,
   "id": "3ed7af71",
   "metadata": {},
   "outputs": [],
   "source": [
    "schueler = np.array([\"Tim\",\"Tom\",\"Tammy\"])\n",
    "print(schueler)\n"
   ]
  },
  {
   "cell_type": "markdown",
   "id": "ce00fde1",
   "metadata": {},
   "source": [
    "**Aufgabe 1** Definiere im nächsten Code-Block ein Array, das die ersten zehn Quadratzahlen enthält und gib es aus."
   ]
  },
  {
   "cell_type": "code",
   "execution_count": null,
   "id": "aa844948",
   "metadata": {},
   "outputs": [],
   "source": [
    "quadratzahlen = "
   ]
  },
  {
   "cell_type": "markdown",
   "id": "19c62c83",
   "metadata": {},
   "source": [
    "Du kannst dir die Werte einzelner Elemente ausgeben lassen. Beginnt die Nummerierung der Elemente mit 0 oder 1?"
   ]
  },
  {
   "cell_type": "code",
   "execution_count": null,
   "id": "9ed18777",
   "metadata": {},
   "outputs": [],
   "source": [
    "quadratzahlen[1]"
   ]
  },
  {
   "cell_type": "markdown",
   "id": "86bffd96",
   "metadata": {},
   "source": [
    "Mit einer Schleife kann man auf alle Elemente des Arrays zugreifen:"
   ]
  },
  {
   "cell_type": "code",
   "execution_count": null,
   "id": "be1d743b",
   "metadata": {
    "scrolled": true
   },
   "outputs": [],
   "source": [
    "laenge = len(quadratzahlen) #Gibt die Länge des Arrays an\n",
    "\n",
    "for i in range(laenge):\n",
    "    print(quadratzahlen[i])\n"
   ]
  },
  {
   "cell_type": "markdown",
   "id": "6bc321bb",
   "metadata": {},
   "source": [
    "**Aufgabe 2** Verwende eine Schleife, um alle Einträge im Array zu verdoppeln."
   ]
  },
  {
   "cell_type": "code",
   "execution_count": null,
   "id": "fd0ab27a",
   "metadata": {},
   "outputs": [],
   "source": [
    "laenge = len(quadratzahlen)\n",
    "\n",
    "\n"
   ]
  },
  {
   "cell_type": "markdown",
   "id": "68cf395d",
   "metadata": {},
   "source": [
    "# Zweidmensionale Arrays\n",
    "\n",
    "Bisher hatten wir nur eindimensionale Arrays. Jetzt verwenden wir zweidimensionale Arrays. Die einzelnen Einträge haben in diesem Beispiel Werte zwischen 0 und 254. Diese lassen sich als 8Bit-Graustufenbild visualisieren. Dabei ist 0 schwarz und 254 weiß. Die Funktion *anschauen* wurde ganz oben im Notebook definiert und visualisiert das Array als Graustufen-Bild."
   ]
  },
  {
   "cell_type": "code",
   "execution_count": null,
   "id": "486326fe",
   "metadata": {},
   "outputs": [],
   "source": [
    "pixelbild = np.array([[  0,  55,  16, 164,  27, 254,  10, 164],\n",
    "       [ 75, 252,  58, 164,  27, 252,  16,   4],\n",
    "       [ 23, 254,  19, 252,  98,  12,  35, 252],\n",
    "       [ 17,  16,  16, 160,  55, 254,   0,   0]], dtype=np.uint8)\n",
    "print(pixelbild)\n",
    "anschauen(pixelbild)"
   ]
  },
  {
   "cell_type": "markdown",
   "id": "343f018c",
   "metadata": {},
   "source": [
    "Die Werte einzelner Elemente des zweidimensionalen Arrays kann man sich folgendermaßen ausgeben lassen:"
   ]
  },
  {
   "cell_type": "code",
   "execution_count": null,
   "id": "af5f4d04",
   "metadata": {},
   "outputs": [],
   "source": [
    "pixelbild[1,5]"
   ]
  },
  {
   "cell_type": "markdown",
   "id": "57aed982",
   "metadata": {},
   "source": [
    "**Aufgabe 3** Gib an, welcher Wert die Zeile und welcher Wert die Spalte angibt."
   ]
  },
  {
   "cell_type": "markdown",
   "id": "11ab68da",
   "metadata": {},
   "source": [
    "Man kann den Einträgen auch neue Werte zuordnen:"
   ]
  },
  {
   "cell_type": "code",
   "execution_count": null,
   "id": "81a938bf",
   "metadata": {},
   "outputs": [],
   "source": [
    "na[0,0]=254\n",
    "print(na)\n",
    "anschauen(na)"
   ]
  },
  {
   "cell_type": "markdown",
   "id": "dbb923d3",
   "metadata": {},
   "source": [
    "**Aufgabe 4** Überlege dir eine eigene kleine 8Bit-Graustufen-Grafik und codiere sie also Array. Du kannst nur Schwarz und Weiß oder auch weitere Grau-Abstufungen verwenden."
   ]
  },
  {
   "cell_type": "code",
   "execution_count": null,
   "id": "897638b4",
   "metadata": {},
   "outputs": [],
   "source": [
    "pixelbild2 = "
   ]
  },
  {
   "cell_type": "markdown",
   "id": "5c18db5e",
   "metadata": {},
   "source": [
    "Mit *shape* kann man sich die \"Maße\" des Bildes bzw. des Arrays ausgeben lassen. Überlege dir, welche Zahl die Höhe und welche die Breite des Bildes angibt."
   ]
  },
  {
   "cell_type": "code",
   "execution_count": null,
   "id": "e6cb624e",
   "metadata": {
    "scrolled": true
   },
   "outputs": [],
   "source": [
    "np.shape(pixelbild2)"
   ]
  },
  {
   "attachments": {
    "linien.png": {
     "image/png": "[encoded data removed]"
    }
   },
   "cell_type": "markdown",
   "id": "aea41fe5",
   "metadata": {},
   "source": [
    "**Aufgabe 5.2** Ändere den Code unten so um, dass das folgende Bild entsteht\n",
    "\n",
    "![linien.png](attachment:linien.png)"
   ]
  },
  {
   "cell_type": "code",
   "execution_count": null,
   "id": "c6929d35",
   "metadata": {},
   "outputs": [],
   "source": [
    "laenge=10\n",
    "breite=10\n",
    "array=np.zeros((laenge,breite),dtype=np.uint8) #Erzeugt ein neues Array mit den Maßen [laenge,a] gefüllt mit Nullen\n",
    "for i in range(laenge):\n",
    "    for j in range(breite):\n",
    "        array[i,j]=i*25\n",
    "anschauen(array)"
   ]
  },
  {
   "attachments": {
    "anschauen-2.png": {
     "image/png": "[encoded data removed]"
    },
    "anschauen-3.png": {
     "image/png": "[encoded data removed]"
    },
    "anschauen.png": {
     "image/png": "[encoded data removed]"
    }
   },
   "cell_type": "markdown",
   "id": "ea6f72b4",
   "metadata": {},
   "source": [
    "**Aufgabe 5.3 (Für Schnelle)** Versuche folgende Bilder zu erstellen\n",
    "\n",
    "![anschauen.png](attachment:anschauen.png)\n",
    "\n",
    "![anschauen-2.png](attachment:anschauen-2.png)\n",
    "\n",
    "![anschauen-3.png](attachment:anschauen-3.png)"
   ]
  },
  {
   "cell_type": "markdown",
   "id": "f26ec385",
   "metadata": {},
   "source": [
    "### Drehen\n",
    "\n",
    "**Aufgabe 5** Definiere eine Funktion, die die Grafik bzw. das Array dreht."
   ]
  },
  {
   "cell_type": "code",
   "execution_count": null,
   "id": "67d536f0",
   "metadata": {},
   "outputs": [],
   "source": [
    "def drehen(array):\n",
    "    a,b=np.shape(array)    #Speichert Länge und Breite des Bildes in den Variablen a und b\n",
    "    gedreht =np.zeros([b,a], dtype=np.uint8) #Erzeugt ein neues Array mit den Maßen [b,a] gefüllt mit Nullen\n"
   ]
  },
  {
   "cell_type": "code",
   "execution_count": null,
   "id": "fbdb5c04",
   "metadata": {},
   "outputs": [],
   "source": [
    "anschauen(pixelbild)\n",
    "anschauen(drehen(pixelbild))\n",
    "        "
   ]
  },
  {
   "cell_type": "markdown",
   "id": "e37c64b6",
   "metadata": {},
   "source": [
    "### Spiegeln\n",
    "\n",
    "**Aufgabe 6** Definiere je eine Funktion, die das Bild an der x-Achse bzw. an der y-Achse spiegelt."
   ]
  },
  {
   "cell_type": "code",
   "execution_count": null,
   "id": "256ef25c",
   "metadata": {},
   "outputs": [],
   "source": [
    "def spiegelny(array):\n",
    "    a,b=np.shape(array)\n",
    "    res=np.zeros([a,b], dtype=np.uint8)\n",
    " "
   ]
  },
  {
   "cell_type": "code",
   "execution_count": null,
   "id": "e5b6e47e",
   "metadata": {},
   "outputs": [],
   "source": [
    "anschauen(na)\n",
    "anschauen(spiegelny(na))"
   ]
  },
  {
   "cell_type": "code",
   "execution_count": null,
   "id": "0a810523",
   "metadata": {},
   "outputs": [],
   "source": [
    "def spiegelnx(array):\n",
    "    a,b=np.shape(array)\n",
    "    res=np.zeros([a,b], dtype=np.uint8)\n",
    "  "
   ]
  },
  {
   "cell_type": "code",
   "execution_count": null,
   "id": "02ececb5",
   "metadata": {},
   "outputs": [],
   "source": [
    "anschauen(na)\n",
    "anschauen(spiegelnx(na))"
   ]
  }
 ],
 "metadata": {
  "kernelspec": {
   "display_name": "Python 3",
   "language": "python",
   "name": "python3"
  },
  "language_info": {
   "codemirror_mode": {
    "name": "ipython",
    "version": 3
   },
   "file_extension": ".py",
   "mimetype": "text/x-python",
   "name": "python",
   "nbconvert_exporter": "python",
   "pygments_lexer": "ipython3",
   "version": "3.7.11"
  }
 },
 "nbformat": 4,
 "nbformat_minor": 5
}
